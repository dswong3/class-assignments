{
 "cells": [
  {
   "cell_type": "markdown",
   "metadata": {},
   "source": [
    "Exercise 1\n",
    "\n",
    "curl -s 'http://fishbase.us/summary/SpeciesSummary.php?ID=4249' | grep Fisheries: | cut -d \";\" -f 1\n"
   ]
  },
  {
   "cell_type": "code",
   "execution_count": 2,
   "metadata": {
    "collapsed": false
   },
   "outputs": [
    {
     "ename": "SyntaxError",
     "evalue": "invalid syntax (<ipython-input-2-4a3496584ce1>, line 1)",
     "output_type": "error",
     "traceback": [
      "\u001b[0;36m  File \u001b[0;32m\"<ipython-input-2-4a3496584ce1>\"\u001b[0;36m, line \u001b[0;32m1\u001b[0m\n\u001b[0;31m    sudo apt-get install python-bs4\u001b[0m\n\u001b[0m           ^\u001b[0m\n\u001b[0;31mSyntaxError\u001b[0m\u001b[0;31m:\u001b[0m invalid syntax\n"
     ]
    }
   ],
   "source": [
    "sudo apt-get install python-bs4"
   ]
  },
  {
   "cell_type": "code",
   "execution_count": 10,
   "metadata": {
    "collapsed": false,
    "scrolled": true
   },
   "outputs": [
    {
     "name": "stdout",
     "output_type": "stream",
     "text": [
      "Limnocottus bergianus\n",
      "Cottinella boulengeri\n",
      "Abyssocottus elochini\n",
      "Abyssocottus gibbosus\n",
      "Abyssocottus gibbosus\n",
      "Limnocottus godlewskii\n",
      "Limnocottus godlewskii\n",
      "Limnocottus griseus\n",
      "Procottus gotoi\n",
      "Procottus gurwicii\n",
      "Asprocottus herzensteini\n",
      "Asprocottus abyssalis\n",
      "Asprocottus intermedius\n",
      "Asprocottus parmiferus\n",
      "Asprocottus platycephalus\n",
      "Procottus jeittelesii\n",
      "Procottus major\n",
      "Procottus gurwicii\n",
      "Procottus jeittelesii\n",
      "Asprocottus korjakovi\n",
      "Asprocottus minor\n",
      "Abyssocottus korotneffi\n",
      "Cyphocottus megalops\n",
      "Cyphocottus megalops\n",
      "Cyphocottus eurystomus\n",
      "Limnocottus pallidus\n",
      "Asprocottus pulcher\n",
      "Neocottus thermalis\n",
      "Neocottus werestschagini\n"
     ]
    },
    {
     "name": "stderr",
     "output_type": "stream",
     "text": [
      "/home/eeb177-student/miniconda3/lib/python3.5/site-packages/bs4/__init__.py:181: UserWarning: No parser was explicitly specified, so I'm using the best available HTML parser for this system (\"html5lib\"). This usually isn't a problem, but if you run this code on another system, or in a different virtual environment, it may use a different parser and behave differently.\n",
      "\n",
      "The code that caused this warning is on line 184 of the file /home/eeb177-student/miniconda3/lib/python3.5/runpy.py. To get rid of this warning, change code that looks like this:\n",
      "\n",
      " BeautifulSoup([your markup])\n",
      "\n",
      "to this:\n",
      "\n",
      " BeautifulSoup([your markup], \"html5lib\")\n",
      "\n",
      "  markup_type=markup_type))\n"
     ]
    }
   ],
   "source": [
    "import urllib.request\n",
    "from bs4 import BeautifulSoup\n",
    "\n",
    "family_url = \"http://www.fishbase.org/Nomenclature/NominalSpeciesList.php?family=Abyssocottidae\"\n",
    "\n",
    "html = urllib.request.urlopen(family_url)\n",
    "html_doc = html.read()\n",
    "html.close()\n",
    "\n",
    "soup = BeautifulSoup(html_doc)\n",
    "\n",
    "# find all links\n",
    "links = soup.find_all(\"a\")\n",
    "for link in links:\n",
    "    # find all italic tags within each link\n",
    "    italics = link.find_all(\"i\")\n",
    "    for italic in italics:\n",
    "        # this should be the species name\n",
    "        print (italic.string)\n"
   ]
  },
  {
   "cell_type": "code",
   "execution_count": 19,
   "metadata": {
    "collapsed": false
   },
   "outputs": [],
   "source": [
    "import urllib.request\n",
    "import json\n",
    "\n",
    "api_url = \"https://fishbase.ropensci.org/species/?genus=Platichthys&species=stellatus\"\n",
    "\n",
    "raw_json = urllib.request.urlopen(api_url)\n",
    "decoded_json = raw_json.read().decode('utf-8')\n",
    "parsed_json = json.loads(decoded_json) ## we use the json.load method directly\n",
    "raw_json.close()\n"
   ]
  },
  {
   "cell_type": "code",
   "execution_count": 20,
   "metadata": {
    "collapsed": false
   },
   "outputs": [
    {
     "data": {
      "text/plain": [
       "'Found inshore, often in very shallow water and in estuaries during the summer; moving into deeper water in the winter (Ref. 27547).  However, they may occur in deep water throughout the year (Ref. 27547).  Does not venture into water of high salinities (Ref. 28899).  Young and adults move up rivers, as much as 120 km (Ref. 27547).  Benthic (Ref. 58426).  Feeds on crustaceans, worms, small mollusks, brittle stars, and small fishes (Ref. 6885).  Important game fish (Ref. 2850).  Utilized fresh and frozen; eaten steamed, fried, boiled, microwaved, and baked (Ref. 9988).'"
      ]
     },
     "execution_count": 20,
     "metadata": {},
     "output_type": "execute_result"
    }
   ],
   "source": [
    "parsed_json[\"data\"][0][\"Comments\"]\n"
   ]
  },
  {
   "cell_type": "code",
   "execution_count": 21,
   "metadata": {
    "collapsed": false
   },
   "outputs": [
    {
     "data": {
      "text/plain": [
       "dict_keys(['BodyShapeI', 'LTypeMaxM', 'Remarks7', 'Saltwater', 'Entered', 'Comments', 'MSpears', 'AquacultureRef', 'Landings', 'GenCode', 'PriceCateg', 'MDredges', 'MTraps', 'Modified', 'Genus', 'MSeines', 'CommonLengthRef', 'MTrawls', 'Weight', 'UsedasBait', 'Fresh', 'UsedforAquaculture', 'DangerousRef', 'PicPreferredNameJ', 'Brack', 'Importance', 'GoogleImage', 'Vulnerability', 'PicPreferredNameF', 'MaxLengthRef', 'AquariumFishII', 'SubGenCode', 'LTypeComM', 'DepthRangeComDeep', 'LengthFemale', 'DepthRangeShallow', 'DepthRangeComShallow', 'CommonLength', 'GameRef', 'ImportanceRef', 'LifeCycle', 'DateModified', 'Complete', 'Emblematic', 'DepthRangeDeep', 'ElectroRef', 'LandingStatistics', 'MHooksLines', 'SpeciesRefNo', 'DepthComRef', 'FBname', 'PriceReliability', 'MigratRef', 'CommonLengthF', 'MCastnets', 'DemersPelag', 'Author', 'DateEntered', 'Aquarium', 'SpecCode', 'PicPreferredNameM', 'Profile', 'AquariumRef', 'Expert', 'Remark', 'TS', 'Dangerous', 'LongevityCapRef', 'Electrogenic', 'Species', 'BaitRef', 'PicPreferredName', 'DepthRangeRef', 'DateChecked', 'AnaCat', 'LarvaPic', 'Subfamily', 'LongevityWild', 'MainCatchingMethod', 'LongevityWildRef', 'MGillnets', 'WeightFemale', 'Source', 'EggPic', 'Pic', 'Length', 'PD50', 'LongevityCaptive', 'MLiftnets', 'AuthorRef', 'MOther', 'II', 'FamCode', 'LTypeComF', 'MaxWeightRef', 'LTypeMaxF', 'PictureFemale', 'TaxIssue', 'GameFish'])"
      ]
     },
     "execution_count": 21,
     "metadata": {},
     "output_type": "execute_result"
    }
   ],
   "source": [
    "parsed_json[\"data\"][0].keys()"
   ]
  },
  {
   "cell_type": "code",
   "execution_count": null,
   "metadata": {
    "collapsed": true
   },
   "outputs": [],
   "source": []
  }
 ],
 "metadata": {
  "kernelspec": {
   "display_name": "Python 3",
   "language": "python",
   "name": "python3"
  },
  "language_info": {
   "codemirror_mode": {
    "name": "ipython",
    "version": 3
   },
   "file_extension": ".py",
   "mimetype": "text/x-python",
   "name": "python",
   "nbconvert_exporter": "python",
   "pygments_lexer": "ipython3",
   "version": "3.5.2"
  }
 },
 "nbformat": 4,
 "nbformat_minor": 2
}
