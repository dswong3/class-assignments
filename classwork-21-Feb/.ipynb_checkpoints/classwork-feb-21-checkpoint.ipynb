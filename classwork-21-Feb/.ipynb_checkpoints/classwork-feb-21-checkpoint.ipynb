{
 "cells": [
  {
   "cell_type": "markdown",
   "metadata": {},
   "source": [
    "What does each row in cocoli.txt represent?\n",
    "\n",
    "\n",
    "Each row contains a single record for each tree censused (but only the species code which you need the next file for)."
   ]
  },
  {
   "cell_type": "markdown",
   "metadata": {},
   "source": [
    "What does each row in cocolisp.txt represent\n",
    "\n",
    "\n",
    "Each row represents a species code and identification (genus, species, family)"
   ]
  },
  {
   "cell_type": "markdown",
   "metadata": {},
   "source": [
    "multi2 = # of stems plant has at the 2nd date (date2)\n",
    "\n",
    "\n",
    "dbh2 = diameter of biggest stem at each time point\n",
    "\n",
    "\n",
    "find genus and species name by... grep for species code in cocolisp.txt \n",
    "\n",
    "\n",
    "genus and species name of record is....CAL2CA\tCalycophyllum\tcandidissimum\tRubiaceae."
   ]
  },
  {
   "cell_type": "markdown",
   "metadata": {},
   "source": [
    "Questions to ask:\n",
    "\n",
    "\n",
    "Change in growth overtime\n",
    "\n",
    "\n",
    "Is there uneven growth based on environmental factors (e.g. wetter vs drier)\n",
    "\n",
    "\n"
   ]
  },
  {
   "cell_type": "code",
   "execution_count": 2,
   "metadata": {
    "collapsed": false
   },
   "outputs": [],
   "source": [
    "# sed 's/\\s/,/g' cocolisp.txt | cut -d \",\" -f 2 | sort | uniq -c | sort -n\n"
   ]
  },
  {
   "cell_type": "code",
   "execution_count": 4,
   "metadata": {
    "collapsed": true
   },
   "outputs": [],
   "source": [
    "# sed 's/\\s/,/g' cocolisp.txt | cut -d \",\" -f 2 | sort | uniq -c | sort -n | grep -w \"1\"| wc - l\n"
   ]
  },
  {
   "cell_type": "code",
   "execution_count": 5,
   "metadata": {
    "collapsed": true
   },
   "outputs": [],
   "source": [
    "#Pseudo code\n",
    "#create empty dictionary\n",
    "#enter list of species\n",
    "#calculate values of RGR \n",
    "#calculate for each species using loop to do (final - initial) / (final time - initial time)\n",
    "#sort them based on largest values \n",
    "#largest RGR value is the answer"
   ]
  },
  {
   "cell_type": "code",
   "execution_count": null,
   "metadata": {
    "collapsed": true
   },
   "outputs": [],
   "source": []
  }
 ],
 "metadata": {
  "anaconda-cloud": {},
  "kernelspec": {
   "display_name": "Python 3",
   "language": "python",
   "name": "python3"
  },
  "language_info": {
   "codemirror_mode": {
    "name": "ipython",
    "version": 3
   },
   "file_extension": ".py",
   "mimetype": "text/x-python",
   "name": "python",
   "nbconvert_exporter": "python",
   "pygments_lexer": "ipython3",
   "version": "3.5.2"
  }
 },
 "nbformat": 4,
 "nbformat_minor": 2
}
