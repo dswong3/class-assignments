{
 "cells": [
  {
   "cell_type": "code",
   "execution_count": 1,
   "metadata": {
    "collapsed": false
   },
   "outputs": [
    {
     "data": {
      "text/plain": [
       "'AtCttCt'"
      ]
     },
     "execution_count": 1,
     "metadata": {},
     "output_type": "execute_result"
    }
   ],
   "source": [
    "seq = \"ATCTTCT\"\n",
    "\n",
    "seq.replace(\"A\", \"a\")\n",
    "seq. replace(\"T\", \"t\")"
   ]
  },
  {
   "cell_type": "code",
   "execution_count": 4,
   "metadata": {
    "collapsed": false
   },
   "outputs": [
    {
     "data": {
      "text/plain": [
       "'ggtct'"
      ]
     },
     "execution_count": 4,
     "metadata": {},
     "output_type": "execute_result"
    }
   ],
   "source": [
    "seq2 = \"GGTCT\"\n",
    "\n",
    "seq2 = seq2.replace(\"T\", \"t\")\n",
    "\n",
    "seq2.lower()"
   ]
  },
  {
   "cell_type": "code",
   "execution_count": 6,
   "metadata": {
    "collapsed": false
   },
   "outputs": [],
   "source": [
    "def greeter():\n",
    "    print(\"Welcome!\")"
   ]
  },
  {
   "cell_type": "code",
   "execution_count": 8,
   "metadata": {
    "collapsed": false
   },
   "outputs": [
    {
     "name": "stdout",
     "output_type": "stream",
     "text": [
      "Welcome!\n"
     ]
    }
   ],
   "source": [
    "greeter()"
   ]
  },
  {
   "cell_type": "code",
   "execution_count": 9,
   "metadata": {
    "collapsed": true
   },
   "outputs": [],
   "source": [
    "def stringAnalyzer(ss):\n",
    "    length = len(ss)\n",
    "    yy = 26\n",
    "    zz = yy + length\n",
    "    print(\"This string has {} characters\".format(length))\n",
    "    return zz"
   ]
  },
  {
   "cell_type": "code",
   "execution_count": 10,
   "metadata": {
    "collapsed": false
   },
   "outputs": [
    {
     "name": "stdout",
     "output_type": "stream",
     "text": [
      "This string has 7 characters\n",
      "33\n"
     ]
    }
   ],
   "source": [
    "print(stringAnalyzer(seq))"
   ]
  },
  {
   "cell_type": "code",
   "execution_count": 19,
   "metadata": {
    "collapsed": false
   },
   "outputs": [],
   "source": [
    "seq = \"ATTCGTTAT\"\n",
    "def get_at_content(dna):\n",
    "    dna = dna.upper() #make everything uppercase\n",
    "    length = len(dna)\n",
    "    a_count = dna.count('A')\n",
    "    t_count = dna.count('T')\n",
    "    at_content = (a_count + t_count) / length\n",
    "    return at_content"
   ]
  },
  {
   "cell_type": "code",
   "execution_count": 20,
   "metadata": {
    "collapsed": false
   },
   "outputs": [
    {
     "name": "stdout",
     "output_type": "stream",
     "text": [
      "0.5294117647058824\n"
     ]
    }
   ],
   "source": [
    "print(get_at_content(\"ATGCATGCAACTGTAGC\"))"
   ]
  },
  {
   "cell_type": "code",
   "execution_count": 21,
   "metadata": {
    "collapsed": false
   },
   "outputs": [
    {
     "name": "stdout",
     "output_type": "stream",
     "text": [
      "0.5217391304347826\n"
     ]
    }
   ],
   "source": [
    "print(get_at_content(\"aactgtagctagctagcagcgta\"))"
   ]
  },
  {
   "cell_type": "code",
   "execution_count": 29,
   "metadata": {
    "collapsed": false
   },
   "outputs": [
    {
     "name": "stdout",
     "output_type": "stream",
     "text": [
      "A=2\n",
      "T=5\n",
      "C=1\n",
      "G=1\n"
     ]
    }
   ],
   "source": [
    "def baseCounter(dna):\n",
    "    for cc in [\"A\", \"T\", \"C\", \"G\"]:\n",
    "        count = dna.upper().count(cc)\n",
    "        print(cc + \"=\" + str(count))\n",
    "        \n",
    "baseCounter(seq)"
   ]
  },
  {
   "cell_type": "code",
   "execution_count": 30,
   "metadata": {
    "collapsed": true
   },
   "outputs": [],
   "source": [
    "def baseCounter(dna):\n",
    "    baseDict = {} #will hold my counts\n",
    "    for cc in [\"A\", \"T\", \"C\", \"G\"]:\n",
    "        count = dna.upper().count(cc)\n",
    "        baseDict[cc] = count\n",
    "        #print(cc + \"=\" + str(count))\n",
    "    return baseDict\n",
    "\n",
    "dd = baseCounter(seq)"
   ]
  },
  {
   "cell_type": "code",
   "execution_count": 31,
   "metadata": {
    "collapsed": false
   },
   "outputs": [
    {
     "data": {
      "text/plain": [
       "dict_keys(['C', 'G', 'A', 'T'])"
      ]
     },
     "execution_count": 31,
     "metadata": {},
     "output_type": "execute_result"
    }
   ],
   "source": [
    "dd.keys()"
   ]
  },
  {
   "cell_type": "code",
   "execution_count": 35,
   "metadata": {
    "collapsed": false
   },
   "outputs": [],
   "source": [
    "def get_at_content(dna, sigfig):\n",
    "    length = len(dna)\n",
    "    a_count = dna.upper().count('A')\n",
    "    t_count = dna.count('T')\n",
    "    at_content = (a_count + t_count) / length\n",
    "    return round(at_content, sigfig)"
   ]
  },
  {
   "cell_type": "code",
   "execution_count": 37,
   "metadata": {
    "collapsed": false
   },
   "outputs": [
    {
     "data": {
      "text/plain": [
       "0.45"
      ]
     },
     "execution_count": 37,
     "metadata": {},
     "output_type": "execute_result"
    }
   ],
   "source": [
    "get_at_content(\"ATGCGCGATCGATCGAATCG\", 4)\n"
   ]
  },
  {
   "cell_type": "code",
   "execution_count": null,
   "metadata": {
    "collapsed": true
   },
   "outputs": [],
   "source": []
  }
 ],
 "metadata": {
  "anaconda-cloud": {},
  "kernelspec": {
   "display_name": "Python 3",
   "language": "python",
   "name": "python3"
  },
  "language_info": {
   "codemirror_mode": {
    "name": "ipython",
    "version": 3
   },
   "file_extension": ".py",
   "mimetype": "text/x-python",
   "name": "python",
   "nbconvert_exporter": "python",
   "pygments_lexer": "ipython3",
   "version": "3.5.2"
  }
 },
 "nbformat": 4,
 "nbformat_minor": 2
}
