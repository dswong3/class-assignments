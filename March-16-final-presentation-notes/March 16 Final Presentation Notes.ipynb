{
 "cells": [
  {
   "cell_type": "markdown",
   "metadata": {},
   "source": [
    "Aditya - Dinosaurs\n",
    "\n",
    "Do you think it is possible to find optimal temperature for endotherm/ecotherm species? "
   ]
  },
  {
   "cell_type": "markdown",
   "metadata": {},
   "source": [
    "Justin - Cetacea\n",
    "\n",
    "Since you want to use brian-sized data and it only represents 8% of the data, do you think that will be a large enough sample size to be a good representation?  "
   ]
  },
  {
   "cell_type": "markdown",
   "metadata": {},
   "source": [
    "Sarah - Canis\n",
    "\n",
    "Why do you think there are so many extant species and so few extinct species? Is it because this genus formed recently?"
   ]
  },
  {
   "cell_type": "markdown",
   "metadata": {},
   "source": [
    "Christina - Bats\n",
    "\n",
    "Why do you think there was so few fossil locations? Is it because bats don't fossilize well in general because of their thin bones, etc.?"
   ]
  },
  {
   "cell_type": "markdown",
   "metadata": {},
   "source": [
    "Gayane - Austism\n",
    "\n",
    "Do you know why there is a gap with few cases of Autism discovery between the high occurence of young and older age cases."
   ]
  },
  {
   "cell_type": "markdown",
   "metadata": {},
   "source": [
    "Roxana - Horses\n",
    "\n",
    "With comparison of the plant and horse datas, do you think increased horse diversity would lead to increased plant diversity, reduced amount, etc? (as a suggestion and question) Will you also look into the plant abundance? "
   ]
  },
  {
   "cell_type": "markdown",
   "metadata": {},
   "source": [
    "Cooper - seagrass\n",
    "\n",
    "Do you think these species being invasive is causing the fish/etc. to change in abundance? "
   ]
  },
  {
   "cell_type": "markdown",
   "metadata": {},
   "source": [
    "Jeff - Canidae\n",
    "\n",
    "What speciation and extinction did you find after knowing that only 1 family survived and the other 2 died off? \n"
   ]
  },
  {
   "cell_type": "markdown",
   "metadata": {},
   "source": [
    "Laura - Quetzal\n",
    "\n",
    "What is keeping the quetzal from migrating and surviving elsewhere in the world? Are they dependent on certain temperature, resources, etc.? "
   ]
  },
  {
   "cell_type": "markdown",
   "metadata": {},
   "source": [
    "Jin - Bird Species (saudi arabia & S. Korea)\n",
    "\n",
    "Do you know why these speciations are so far away and only found in those 2 specific regions? "
   ]
  },
  {
   "cell_type": "markdown",
   "metadata": {},
   "source": [
    "Marisa - Anura / Frogs\n",
    "\n",
    "Do you think there is a decline in the extant frog specie fossils because they're located in the tropics, where it may be difficult to find these fossils?"
   ]
  },
  {
   "cell_type": "markdown",
   "metadata": {},
   "source": [
    "Erin - Heteromyidae (smaller rodents)\n",
    "\n",
    "With the huge increase jump in extinction rates, do you think it will cause a loss in the whole family heteromyidae family? or do you think people will work to help save them (if they haven't already)? "
   ]
  },
  {
   "cell_type": "markdown",
   "metadata": {},
   "source": [
    "Sean - Felidae\n",
    "\n",
    "Was the gif made for species diversity over time? and do you plan to do one for extinctions? \n"
   ]
  },
  {
   "cell_type": "markdown",
   "metadata": {},
   "source": [
    "Tiff - Mustelidae\n",
    "\n",
    "What do you think this the Mustelidae makes up the largest of the Carnivora order, especially when "
   ]
  }
 ],
 "metadata": {
  "kernelspec": {
   "display_name": "Python 3",
   "language": "python",
   "name": "python3"
  },
  "language_info": {
   "codemirror_mode": {
    "name": "ipython",
    "version": 3
   },
   "file_extension": ".py",
   "mimetype": "text/x-python",
   "name": "python",
   "nbconvert_exporter": "python",
   "pygments_lexer": "ipython3",
   "version": "3.5.2"
  }
 },
 "nbformat": 4,
 "nbformat_minor": 2
}
