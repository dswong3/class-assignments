{
 "cells": [
  {
   "cell_type": "markdown",
   "metadata": {},
   "source": [
    "Kelsey - Sharks\n",
    "\n",
    "Question: What trends did you find while running individual species? "
   ]
  },
  {
   "cell_type": "markdown",
   "metadata": {},
   "source": [
    "Dom - Canis\n",
    "\n",
    "Question: Why do you think Canis was so popular compared to the other genuses in that Phylum?"
   ]
  },
  {
   "cell_type": "markdown",
   "metadata": {},
   "source": [
    "Linna - Why do you think elephants, though the most prominent were also extinct in such large numbers? \n"
   ]
  },
  {
   "cell_type": "markdown",
   "metadata": {},
   "source": [
    "Ashen - India/America Comparisons\n",
    "\n",
    "Because decision time were almost indentical in India and America, do you think this is an innate process versus culture influence, etc. "
   ]
  },
  {
   "cell_type": "markdown",
   "metadata": {},
   "source": [
    "Matthew - California Valley Oak\n",
    "\n",
    "What is the significance of these oak trees / importance of study and the water intake especially with the drought in California? "
   ]
  },
  {
   "cell_type": "markdown",
   "metadata": {},
   "source": [
    "Antonella - Alligatoridae\n",
    "\n",
    "Why do you think there are so few extant species compared to what it was in the past? "
   ]
  },
  {
   "cell_type": "markdown",
   "metadata": {},
   "source": [
    "Yee - Squamata\n",
    "\n",
    "Since this group is the largest recent order, why do you think these specialized so quicker and so largely? "
   ]
  },
  {
   "cell_type": "markdown",
   "metadata": {},
   "source": [
    "Kristen - Pilosa \n",
    "\n",
    "Why do you think the move/trend for species were more upwards (away from the equator)?"
   ]
  },
  {
   "cell_type": "markdown",
   "metadata": {},
   "source": [
    "Madison - birds\n",
    "\n",
    "With so many species and so much overlap of red on the graph, do you think there is a way to make it more visible by color? "
   ]
  },
  {
   "cell_type": "markdown",
   "metadata": {},
   "source": [
    "Youstina - monkeys\n",
    "\n",
    "Why do you think the graph was so varied with such high and such low numbers of species instead of a gradual trend? In other words, why do you think the spikes and drops were so significant and so rapidly?"
   ]
  },
  {
   "cell_type": "markdown",
   "metadata": {},
   "source": [
    "Jeremy - HART Study\n",
    "\n",
    "Do you know how far you can push above or how close can they get to the metabolic rate threshold? "
   ]
  },
  {
   "cell_type": "markdown",
   "metadata": {},
   "source": [
    "Mehdi - Birds\n",
    "\n",
    "Why do you think the pie chart is more effective other than the aesthetics look? "
   ]
  },
  {
   "cell_type": "markdown",
   "metadata": {},
   "source": [
    "Junghoon\n",
    "\n",
    "What do you plan to to do with the graphs and its maps? "
   ]
  },
  {
   "cell_type": "markdown",
   "metadata": {},
   "source": [
    "Hyein - Asian Birds\n",
    "\n",
    "How would revise your hypothesis to create a new one that you think would now support/go along with your data? "
   ]
  },
  {
   "cell_type": "code",
   "execution_count": null,
   "metadata": {
    "collapsed": true
   },
   "outputs": [],
   "source": []
  }
 ],
 "metadata": {
  "kernelspec": {
   "display_name": "Python 3",
   "language": "python",
   "name": "python3"
  },
  "language_info": {
   "codemirror_mode": {
    "name": "ipython",
    "version": 3
   },
   "file_extension": ".py",
   "mimetype": "text/x-python",
   "name": "python",
   "nbconvert_exporter": "python",
   "pygments_lexer": "ipython3",
   "version": "3.5.2"
  }
 },
 "nbformat": 4,
 "nbformat_minor": 2
}
